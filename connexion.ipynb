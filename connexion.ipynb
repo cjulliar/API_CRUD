{
 "cells": [
  {
   "cell_type": "code",
   "execution_count": 10,
   "metadata": {},
   "outputs": [
    {
     "name": "stdout",
     "output_type": "stream",
     "text": [
      "❌ Erreur lors de la connexion à la base de données :\n",
      "('01000', \"[01000] [unixODBC][Driver Manager]Can't open lib 'ODBC Driver 17 for SQL Server' : file not found (0) (SQLDriverConnect)\")\n"
     ]
    }
   ],
   "source": [
    "import pyodbc\n",
    "from dotenv import load_dotenv\n",
    "import os\n",
    "\n",
    "# Charger les variables d'environnement depuis le fichier .env\n",
    "load_dotenv()\n",
    "\n",
    "# Récupérer les informations sensibles depuis le fichier .env\n",
    "DB_SERVER = os.getenv(\"DB_SERVER\")\n",
    "DB_NAME = os.getenv(\"DB_NAME\")\n",
    "DB_USERNAME = os.getenv(\"DB_USERNAME\")\n",
    "DB_PASSWORD = os.getenv(\"DB_PASSWORD\")\n",
    "\n",
    "# Vérifier si les variables d'environnement sont correctement chargées\n",
    "if not all([DB_SERVER, DB_NAME, DB_USERNAME, DB_PASSWORD]):\n",
    "    print(\"Erreur : certaines variables d'environnement sont manquantes. Vérifiez votre fichier .env.\")\n",
    "    exit(1)\n",
    "\n",
    "# Fonction pour établir la connexion\n",
    "def connect_to_azure_sql():\n",
    "    try:\n",
    "        # Chaîne de connexion avec ODBC Driver 18\n",
    "        connection_string = (\n",
    "            f\"DRIVER={{ODBC Driver 18 for SQL Server}};\"\n",
    "            f\"SERVER={DB_SERVER};\"\n",
    "            f\"DATABASE={DB_NAME};\"\n",
    "            f\"UID={DB_USERNAME};\"\n",
    "            f\"PWD={DB_PASSWORD};\"\n",
    "            f\"Encrypt=yes;\"\n",
    "            f\"TrustServerCertificate=no;\"\n",
    "        )\n",
    "        \n",
    "        # Établir la connexion\n",
    "        conn = pyodbc.connect(connection_string)\n",
    "        print(\"✅ Connexion réussie à la base de données.\")\n",
    "        return conn\n",
    "    except pyodbc.Error as e:\n",
    "        print(\"❌ Erreur lors de la connexion à la base de données :\")\n",
    "        print(e)\n",
    "        return None\n",
    "\n",
    "# Tester la connexion\n",
    "connection = connect_to_azure_sql()\n",
    "\n",
    "# Exemple : Vérification des tables disponibles\n",
    "if connection:\n",
    "    try:\n",
    "        cursor = connection.cursor()\n",
    "        cursor.execute(\"SELECT TABLE_NAME FROM INFORMATION_SCHEMA.TABLES;\")\n",
    "        tables = cursor.fetchall()\n",
    "        print(\"📋 Tables disponibles dans la base de données :\")\n",
    "        for table in tables:\n",
    "            print(f\"- {table[0]}\")\n",
    "    except pyodbc.Error as e:\n",
    "        print(\"❌ Erreur lors de l'exécution de la requête :\")\n",
    "        print(e)\n",
    "    finally:\n",
    "        connection.close()\n",
    "        print(\"🔒 Connexion fermée.\")\n"
   ]
  }
 ],
 "metadata": {
  "kernelspec": {
   "display_name": "env",
   "language": "python",
   "name": "python3"
  },
  "language_info": {
   "codemirror_mode": {
    "name": "ipython",
    "version": 3
   },
   "file_extension": ".py",
   "mimetype": "text/x-python",
   "name": "python",
   "nbconvert_exporter": "python",
   "pygments_lexer": "ipython3",
   "version": "3.10.0"
  }
 },
 "nbformat": 4,
 "nbformat_minor": 2
}
